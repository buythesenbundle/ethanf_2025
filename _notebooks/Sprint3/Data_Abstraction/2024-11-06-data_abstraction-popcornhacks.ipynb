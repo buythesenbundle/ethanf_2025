{
 "cells": [
  {
   "cell_type": "code",
   "execution_count": null,
   "metadata": {},
   "outputs": [],
   "source": [
    "---\n",
    "comments: True\n",
    "layout: post \n",
    "title: Data Abstraction Hacks\n",
    "description: An intro to data abstraction\n",
    "permalink: /csse/javascript/fundamentals/data-abstraction-hacks\n",
    "type: ccc\n",
    "author: Veera Kalakota, Santhosh Karthik, Akhil Kulkarni\n",
    "---"
   ]
  },
  {
   "cell_type": "markdown",
   "metadata": {},
   "source": [
    "# Popcorn Hack #1\n",
    "Create a child class of the class **Appliance**, and call it's name() function"
   ]
  },
  {
   "cell_type": "code",
   "execution_count": 10,
   "metadata": {
    "vscode": {
     "languageId": "javascript"
    }
   },
   "outputs": [
    {
     "data": {
      "application/javascript": "\n    class Appliance {\n        constructor(name) {\n            this.name = name;\n        }\n        getName() {\n            return \"I am a \" + this.constructor.name + \" and my model is \" + this.name;\n        }\n    }\n    // Below this name the class and cause it to inherit from the Appliance class\n    class RocketLauncher extends Appliance{\n        constructor(name) {\n            super(name);\n    }\n        \n    }\n\n    const rocketlauncher = new RocketLauncher(\"the one with the big bomb\")\n    console.log(rocketlauncher.getName())\n",
      "text/plain": [
       "<IPython.core.display.Javascript object>"
      ]
     },
     "metadata": {},
     "output_type": "display_data"
    }
   ],
   "source": [
    "%%js \n",
    "\n",
    "    class Appliance {\n",
    "        constructor(name) {\n",
    "            this.name = name;\n",
    "        }\n",
    "        getName() {\n",
    "            return \"I am a \" + this.constructor.name + \" and my model is \" + this.name;\n",
    "        }\n",
    "    }\n",
    "    // Below this name the class and cause it to inherit from the Appliance class\n",
    "    class RocketLauncher extends Appliance{\n",
    "        constructor(name) {\n",
    "            super(name);\n",
    "    }\n",
    "        \n",
    "    }\n",
    "\n",
    "    const rocketlauncher = new RocketLauncher(\"the one with the big bomb\")\n",
    "    console.log(rocketlauncher.getName())"
   ]
  },
  {
   "cell_type": "markdown",
   "metadata": {},
   "source": [
    "### Popcorn Hack #2\n",
    "Create child classes of the product class with items, and add parameters depending on what it is. An example is provided of a bagel."
   ]
  },
  {
   "cell_type": "code",
   "execution_count": 22,
   "metadata": {
    "vscode": {
     "languageId": "javascript"
    }
   },
   "outputs": [
    {
     "data": {
      "application/javascript": "    class Product{\n        constructor(price,size,taxRate) {\n            this.price = price;\n            this.size = size;\n            this.taxRate = taxRate;\n        }   \n        getPrice() {\n            return this.price + this.taxRate * this.price;\n        }\n        product(){\n            const className = this.constructor.name.toLowerCase();\n            return \"You are ordering a \" + className + \" with a price of \" + this.getPrice() + \" dollars, a size of \" + this.size;\n        }\n    }\n    class Bagel extends Product{\n        constructor(price, size, taxRate, flavor) {\n            super(price, size, taxRate);\n            this.flavor = flavor;\n        }\n        getPrice(){\n            return super.getPrice() * this.size;\n        }\n        product(){\n            return super.product() + \" and a flavor of \" + this.flavor;\n        }\n    }\n\n    class Chair extends Product{\n        constructor(price, size, taxRate, throwability, comfort) {\n                super(price, size, taxRate);\n                this.throwability = throwability;\n                this.comfort = comfort;\n            }\n            getPrice(){\n                return super.getPrice() * this.size;\n            }\n            product(){\n                return super.product() + \" and a throwability that is \" + this.throwability + \". \" + \"This chair is also \" + this.comfort + \" :)\";\n            }\n    }\nvar coolChair = new Chair(40, 10, 0.05, \"very high\", \"very comfy\");\nconsole.log(coolChair.product());\n",
      "text/plain": [
       "<IPython.core.display.Javascript object>"
      ]
     },
     "metadata": {},
     "output_type": "display_data"
    }
   ],
   "source": [
    "%%js\n",
    "    class Product{\n",
    "        constructor(price,size,taxRate) {\n",
    "            this.price = price;\n",
    "            this.size = size;\n",
    "            this.taxRate = taxRate;\n",
    "        }   \n",
    "        getPrice() {\n",
    "            return this.price + this.taxRate * this.price;\n",
    "        }\n",
    "        product(){\n",
    "            const className = this.constructor.name.toLowerCase();\n",
    "            return \"You are ordering a \" + className + \" with a price of \" + this.getPrice() + \" dollars, a size of \" + this.size;\n",
    "        }\n",
    "    }\n",
    "    class Bagel extends Product{\n",
    "        constructor(price, size, taxRate, flavor) {\n",
    "            super(price, size, taxRate);\n",
    "            this.flavor = flavor;\n",
    "        }\n",
    "        getPrice(){\n",
    "            return super.getPrice() * this.size;\n",
    "        }\n",
    "        product(){\n",
    "            return super.product() + \" and a flavor of \" + this.flavor;\n",
    "        }\n",
    "    }\n",
    "\n",
    "    class Chair extends Product{\n",
    "        constructor(price, size, taxRate, throwability, comfort) {\n",
    "                super(price, size, taxRate);\n",
    "                this.throwability = throwability;\n",
    "                this.comfort = comfort;\n",
    "            }\n",
    "            getPrice(){\n",
    "                return super.getPrice() * this.size;\n",
    "            }\n",
    "            product(){\n",
    "                return super.product() + \" and a throwability that is \" + this.throwability + \". \" + \"This chair is also \" + this.comfort + \" :)\";\n",
    "            }\n",
    "    }\n",
    "var coolChair = new Chair(40, 10, 0.05, \"very high\", \"very comfy\");\n",
    "console.log(coolChair.product());"
   ]
  }
 ],
 "metadata": {
  "kernelspec": {
   "display_name": "venv",
   "language": "python",
   "name": "python3"
  },
  "language_info": {
   "codemirror_mode": {
    "name": "ipython",
    "version": 3
   },
   "file_extension": ".py",
   "mimetype": "text/x-python",
   "name": "python",
   "nbconvert_exporter": "python",
   "pygments_lexer": "ipython3",
   "version": "3.10.12"
  }
 },
 "nbformat": 4,
 "nbformat_minor": 2
}
