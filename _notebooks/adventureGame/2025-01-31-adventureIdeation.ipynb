{
 "cells": [
  {
   "cell_type": "raw",
   "metadata": {
    "vscode": {
     "languageId": "raw"
    }
   },
   "source": [
    "---\n",
    "layout: post\n",
    "title: Adventure Ideation Blog\n",
    "description: Notebook for diagram and ideas for adventure\n",
    "type: issues\n",
    "permalink: /adventure-ideation/\n",
    "comments: true \n",
    "---"
   ]
  },
  {
   "cell_type": "markdown",
   "metadata": {},
   "source": [
    "# Adeventure Ideation\n",
    "\n",
    "\n"
   ]
  },
  {
   "cell_type": "markdown",
   "metadata": {},
   "source": [
    "Here is where I am documenting our ideas for enhancing and improving the current adventure game!"
   ]
  },
  {
   "cell_type": "markdown",
   "metadata": {},
   "source": [
    "## Improve Current Movement \n",
    "\n",
    "Me and my partner have found the current movement in game to be quite a bit lackluster, and it obviously needs some quality of life changes to make it both look and feel smoother\n",
    "\n",
    "\n",
    "The code related to the movement of the player is present in Player.js and is here down below"
   ]
  },
  {
   "cell_type": "markdown",
   "metadata": {},
   "source": [
    "### Binding Event Listeners\n",
    "\n",
    "The bindEventListeners method binds `keydown` and `keyup` event listeners to handle player movement "
   ]
  },
  {
   "cell_type": "code",
   "execution_count": null,
   "metadata": {
    "vscode": {
     "languageId": "javascript"
    }
   },
   "outputs": [],
   "source": [
    "class Player extends Character {\n",
    "    constructor(data = null) {\n",
    "        super(data);\n",
    "        this.keypress = data?.keypress || {up: 87, left: 65, down: 83, right: 68};\n",
    "        this.bindEventListeners();\n",
    "    }\n",
    "\n",
    "    bindEventListeners() {\n",
    "        addEventListener('keydown', this.handleKeyDown.bind(this));\n",
    "        addEventListener('keyup', this.handleKeyUp.bind(this));\n",
    "    }\n",
    "}"
   ]
  },
  {
   "cell_type": "markdown",
   "metadata": {},
   "source": [
    "### Handling Key Down Events\n",
    "\n",
    "The `handleKeyDown` method updates the player's velocity based on the key pressed"
   ]
  },
  {
   "cell_type": "code",
   "execution_count": null,
   "metadata": {
    "vscode": {
     "languageId": "javascript"
    }
   },
   "outputs": [],
   "source": [
    "class Player extends Character {\n",
    "    // ...\n",
    "\n",
    "    handleKeyDown({ keyCode }) {\n",
    "        switch (keyCode) {\n",
    "            case this.keypress.up:\n",
    "                this.velocity.y = -this.stepFactor;\n",
    "                break;\n",
    "            case this.keypress.down:\n",
    "                this.velocity.y = this.stepFactor;\n",
    "                break;\n",
    "            case this.keypress.left:\n",
    "                this.velocity.x = -this.stepFactor;\n",
    "                break;\n",
    "            case this.keypress.right:\n",
    "                this.velocity.x = this.stepFactor;\n",
    "                break;\n",
    "        }\n",
    "    }\n",
    "}"
   ]
  },
  {
   "cell_type": "markdown",
   "metadata": {},
   "source": [
    "### Handling Key Up Events \n",
    "\n",
    "The `handleKeyUp` method stops the player's velocity based on the key released."
   ]
  },
  {
   "cell_type": "code",
   "execution_count": null,
   "metadata": {
    "vscode": {
     "languageId": "javascript"
    }
   },
   "outputs": [],
   "source": [
    "class Player extends Character {\n",
    "    // ...\n",
    "\n",
    "    handleKeyUp({ keyCode }) {\n",
    "        switch (keyCode) {\n",
    "            case this.keypress.up:\n",
    "            case this.keypress.down:\n",
    "                this.velocity.y = 0;\n",
    "                break;\n",
    "            case this.keypress.left:\n",
    "            case this.keypress.right:\n",
    "                this.velocity.x = 0;\n",
    "                break;\n",
    "        }\n",
    "    }\n",
    "}"
   ]
  },
  {
   "cell_type": "markdown",
   "metadata": {},
   "source": [
    "### Updating Player Position \n",
    "\n",
    "The `update` method updates the player's position based on the velocity and it ensures the player stays within the canvas"
   ]
  },
  {
   "cell_type": "code",
   "execution_count": null,
   "metadata": {
    "vscode": {
     "languageId": "javascript"
    }
   },
   "outputs": [],
   "source": [
    "class Player extends Character {\n",
    "    // ...\n",
    "\n",
    "    update() {\n",
    "        this.position.x += this.velocity.x;\n",
    "        this.position.y += this.velocity.y;\n",
    "\n",
    "        // Ensure the player stays within the canvas boundaries\n",
    "        if (this.position.x + this.width > GameEnv.innerWidth) {\n",
    "            this.position.x = GameEnv.innerWidth - this.width;\n",
    "            this.velocity.x = 0;\n",
    "        }\n",
    "        if (this.position.x < 0) {\n",
    "            this.position.x = 0;\n",
    "            this.velocity.x = 0;\n",
    "        }\n",
    "        if (this.position.y + this.height > GameEnv.innerHeight) {\n",
    "            this.position.y = GameEnv.innerHeight - this.height;\n",
    "            this.velocity.y = 0;\n",
    "        }\n",
    "        if (this.position.y < 0) {\n",
    "            this.position.y = 0;\n",
    "            this.velocity.y = 0;\n",
    "        }\n",
    "    }\n",
    "}"
   ]
  },
  {
   "cell_type": "markdown",
   "metadata": {},
   "source": [
    "## What We Want To Change \n",
    "\n",
    "Of the code excerpts provided, we mostly want to focus on the velocity within the `handleKeyDown` method, as it currently just feels weirdly sluggish and kind of hard to control. \n",
    "\n",
    "The other methods seem to be alright as of now, but further inspection while coding may prove otherwise (hopefully not)"
   ]
  },
  {
   "cell_type": "markdown",
   "metadata": {},
   "source": [
    "## Theme of Levels\n",
    "\n",
    "Not only do we wish to change the movement in the game, but we want to change the theme as well. We plan on changing the theme to that of *The Battle Cats* which is a fun game that (mostly) revolves around cats. \n",
    "\n",
    "The sprite we will use is that of the basic cat that you acquire at the beginning of the game for the main character, while the other characters will be that of other character from the game.\n",
    "\n",
    "## Lvl 1 Changes\n",
    "\n",
    "- Add Treasure:\n",
    "    - Press e or u to collect, gives a prompt with info about the treasure when collected\n",
    "- Fix player movement: update code in Player.js to normalize movement\n",
    "- New NPC: Quest for player collecting treasures, completes level when all are collected\n",
    "- (Maybe) change quiz npcs into a single npc with player help\n",
    "\n"
   ]
  },
  {
   "cell_type": "markdown",
   "metadata": {},
   "source": [
    "![sprite-image](../images/gamify/battleCatsNormal.png)"
   ]
  },
  {
   "cell_type": "markdown",
   "metadata": {},
   "source": [
    "## Changes to 2nd Level\n",
    "\n",
    "The 2nd Level we feel is a little inadequate as of now, with there only being one NPC present and it overall just feeling incomplete and lackluster.\n",
    "\n",
    "What we want to do is actually change the gameplay as a whole with the second level to give it a distinct feel compared to the first one. \n",
    "\n",
    "We want to make it so you are collecting cat food instead (like coins), possibly with various obstacles in your way, or we will implement a similar \"battle\" system as the first level, but we overall want the second level to be an evolution of the first one by adding a new gameplay mechanic on top of the existing ones.\n",
    "\n",
    "Adding on to the mention of coins, I want to implement a class that will manage collectibles as a whole, so basically any item that the character can collect will be tied to this class to make things far cleaner code-wise\n",
    "\n",
    "![current-game](../images/gamify/Screenshot-2025-02-01-192518.png)"
   ]
  }
 ],
 "metadata": {
  "language_info": {
   "name": "python"
  }
 },
 "nbformat": 4,
 "nbformat_minor": 2
}
