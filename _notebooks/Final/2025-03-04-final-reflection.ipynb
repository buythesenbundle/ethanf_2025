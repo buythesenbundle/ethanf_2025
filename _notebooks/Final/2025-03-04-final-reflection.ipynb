{
 "cells": [
  {
   "cell_type": "code",
   "execution_count": null,
   "metadata": {
    "vscode": {
     "languageId": "yaml"
    }
   },
   "outputs": [],
   "source": [
    "---\n",
    "layout: post\n",
    "title: Reflection Blog\n",
    "description: Reflection on coding this year\n",
    "categories: [Final]\n",
    "permalink: final/final-reflection/\n",
    "author: Ethan Fu\n",
    "---"
   ]
  },
  {
   "cell_type": "markdown",
   "metadata": {},
   "source": [
    "# Reflection\n",
    "\n",
    "## Individual\n",
    "\n",
    "Strengths:\n",
    "- Good understanding of code functions\n",
    "- Retaining information from past lessons (knowledge from student lessons)\n",
    "- Working with teammates (live share and calls outside of school)\n",
    "\n",
    "Weaknesses:\n",
    "- Communicating with other teams (when our team and another team were both working on local storage)\n",
    "- Working speed\n",
    "- Not iterating enough (pushing large changes all at once rather than making many small changes)\n",
    "\n",
    "## Project\n",
    "\n",
    "Strengths:\n",
    "- Responsive movement\n",
    "- Unique treasure system\n",
    "- Smooth animations (npc)\n",
    "\n",
    "Weakness:\n",
    "- Level is short\n",
    "- Still some unfixed errors logged due to original code template\n",
    "- interacting with NPCs pauses the entire game\n",
    "\n",
    "Next Steps:\n",
    "Add more content to the game to extend play time (new level or more treasures), change the text boxes to be within the game itself so the game continues running, clean up code from the old version of the game, finish up treasure tracker system for a better player experience.\n",
    "\n",
    "## Self-Grade\n",
    "\n",
    "1. 5/5: All 5 things needed to be shown (skills learned (in blogs), student lessons taught (blogs section), past live review presentations given (github issues), github analytics, 8 blogs) shown on the home page for the final\n",
    "2. 2/2: Latest game feature (player sprite changing direction using flipping) functions properly and improves the player experience in the game\n",
    "3. 1/1: Write-up is complete and drawIO is included in the write-up\n",
    "4. 1/1: Feedback is shown in the Night at the Museum blog, more than 5 total piece of feedback, 2 from parents\n",
    "5. 0.5/1: Multiple requirements for bonus point are completed:\n",
    "    - Taking interest in other projects at N@TM (N@TM blog)\n",
    "    - Reflection on individual strengths and weaknesses (Reflection blog)\n",
    "    - Reflection on project (Reflection blog)\n",
    "    - Pitch for college articulation\n",
    "    - Honest self grade assessment (this blog)\n",
    "    - Summary of talking points day before live review"
   ]
  }
 ],
 "metadata": {
  "language_info": {
   "name": "python"
  }
 },
 "nbformat": 4,
 "nbformat_minor": 2
}
