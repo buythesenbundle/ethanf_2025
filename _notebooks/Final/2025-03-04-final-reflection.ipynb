{
 "cells": [
  {
   "cell_type": "code",
   "execution_count": null,
   "metadata": {
    "vscode": {
     "languageId": "yaml"
    }
   },
   "outputs": [],
   "source": [
    "---\n",
    "layout: post\n",
    "title: Reflection Blog\n",
    "description: Reflection on coding this year\n",
    "categories: [Final]\n",
    "permalink: final/final-reflection/\n",
    "author: Ethan Fu\n",
    "---"
   ]
  },
  {
   "cell_type": "markdown",
   "metadata": {},
   "source": [
    "# Reflection\n",
    "\n",
    "## Individual\n",
    "\n",
    "Strengths:\n",
    "- Good understanding of code functions\n",
    "- Retaining information from past lessons (knowledge from student lessons)\n",
    "- Working with teammates (live share and calls outside of school)\n",
    "\n",
    "Weaknesses:\n",
    "- Communicating with other teams (when our team and another team were both working on local storage)\n",
    "- Working speed\n",
    "- Not iterating enough (pushing large changes all at once rather than making many small changes)\n",
    "\n",
    "## Project\n",
    "\n",
    "Strengths:\n",
    "- Responsive movement\n",
    "- Unique treasure system\n",
    "- Smooth animations (npc)\n",
    "\n",
    "Weakness:\n",
    "- Level is short\n",
    "- Still some unfixed errors logged due to original code template\n",
    "- interacting with NPCs pauses the entire game\n",
    "\n",
    "Next Steps:\n",
    "Add more content to the game to extend play time (new level or more treasures), change the text boxes to be within the game itself so the game continues running, clean up code from the old version of the game, finish up treasure tracker system for a better player experience.\n",
    "\n",
    "## Self-Grade"
   ]
  }
 ],
 "metadata": {
  "language_info": {
   "name": "python"
  }
 },
 "nbformat": 4,
 "nbformat_minor": 2
}
