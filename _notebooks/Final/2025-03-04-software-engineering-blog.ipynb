{
 "cells": [
  {
   "cell_type": "code",
   "execution_count": null,
   "metadata": {
    "vscode": {
     "languageId": "yaml"
    }
   },
   "outputs": [],
   "source": [
    "---\n",
    "layout: post\n",
    "title: Software Engineering\n",
    "description: blog on software engineering with github\n",
    "categories: [Final]\n",
    "author: Ethan Fu\n",
    "permalink: final/software-engineering\n",
    "---"
   ]
  },
  {
   "cell_type": "markdown",
   "metadata": {},
   "source": [
    "# Software Engineering\n",
    "\n",
    "## Planning Changes\n",
    "When creating our games, we always planned out the changes that we wanted to implement before we did anything else. We did this by creating issues on our github repositories that contained our checklists/burndowns.\n",
    "\n",
    "### Burndowns\n",
    "Burndowns are checklists that have all of our planned changes, organized based on periods of time. We would have a certain amount of tasks that we would want to complete for one week, then another set of tasks for the next. This is an example from the burndown list for my adventure game:\n",
    "![10]({{site.baseurl}}/images/notebooks/final/10.png)\n",
    "\n",
    "## Coding With Comments\n",
    "When coding, we always made sure to include comments for our code, especially when working in groups. We learned that they are essential for being able to come back to code and still being able to quickly understand their functions."
   ]
  }
 ],
 "metadata": {
  "language_info": {
   "name": "python"
  }
 },
 "nbformat": 4,
 "nbformat_minor": 2
}
