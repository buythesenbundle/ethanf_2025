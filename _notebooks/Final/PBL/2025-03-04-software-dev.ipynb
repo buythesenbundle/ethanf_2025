{
 "cells": [
  {
   "cell_type": "code",
   "execution_count": null,
   "metadata": {
    "vscode": {
     "languageId": "yaml"
    }
   },
   "outputs": [],
   "source": [
    "---\n",
    "layout: post\n",
    "title: Software Development\n",
    "description: Blog on process of software development\n",
    "categories: [Final]\n",
    "permalink: final/pbl/software-dev/\n",
    "author: Ethan Fu\n",
    "---"
   ]
  },
  {
   "cell_type": "markdown",
   "metadata": {},
   "source": [
    "# Software Development\n",
    "\n",
    "![git]({{site.baseurl}}/images/notebooks/final/git.png)\n",
    "\n",
    "## Source Control\n",
    "Source control AKA version control, is the practice of tracking and managing changes to code to stay organized, which lets you have multiple people working on the same project, as well as being able to keep track of changes and revert them if necessary.\n",
    "\n",
    "## Forking\n",
    "Forking is the process of creating a personal copy of someone else's project that you can work on yourself using your own github account. By doing this, you can make changes to a repository without changing the other person's actual work.\n",
    "\n",
    "## Branching\n",
    "Branching allows you to create separate lines of development within a repository, which will each have their own changes. This lets you switch between working on multiple different changes by switching branches. The main branch is usually called main, and feature branches are created for specific tasks.\n",
    "\n",
    "## Building\n",
    "Building is the process of converting source code into executable code, which is automated using the git push command. This process involves compiling the code to ensure a stable published site.\n",
    "\n",
    "## Testing and Verification\n",
    "Testing and verification involve checking the software to ensure it works as expected. This includes writing and running tests to catch bugs and verify that new changes do not break existing functionality.\n",
    "\n",
    "## Pull Requests\n",
    "Pull requests are proposals for changes made by developers to be implemented into the game by the person in charge of the repository. This system allows for reviews and explanations of new code before it is implemented into the published site.\n",
    "\n",
    "## Merging\n",
    "Merging is the process of combining changes from one branch into another, which is usually done after a pull request has been reviewed and approved. Merging can be done automatically if there are no conflicts, or manually if there are conflicting changes (merge conflicts) that need to be resolved.\n",
    "\n",
    "## Deployment\n",
    "Deployment is the process of releasing software to users. This involves moving the built and tested software to a production environment where it can be accessed by end-users. Deployment can be automated using continuous deployment (CD) tools, which ensure that new changes are deployed quickly and reliably."
   ]
  }
 ],
 "metadata": {
  "language_info": {
   "name": "python"
  }
 },
 "nbformat": 4,
 "nbformat_minor": 2
}
