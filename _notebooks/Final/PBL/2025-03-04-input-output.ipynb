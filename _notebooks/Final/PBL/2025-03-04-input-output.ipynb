{
 "cells": [
  {
   "cell_type": "code",
   "execution_count": null,
   "metadata": {
    "vscode": {
     "languageId": "yaml"
    }
   },
   "outputs": [],
   "source": [
    "---\n",
    "comments: true\n",
    "layout: post\n",
    "title: Input/Output\n",
    "author: Ethan Fu\n",
    "permalink: /final/pbl/input-output\n",
    "category: [ Final ]\n",
    "type: ccc\n",
    "---"
   ]
  },
  {
   "cell_type": "markdown",
   "metadata": {},
   "source": [
    "# Input / Output\n",
    "\n",
    "## HTML5 Input\n",
    "HTML5 inputs involve taking text-based inputs from a user. This has been implemented in the nighthawk adventure game, with certain NPCs taking text inputs for answers in a quiz:\n",
    "![3]({{site.baseurl}}/images/notebooks/final/3.png)\n",
    "\n",
    "### Validation\n",
    "When taking inputs, it is important to set a way to create validation system to determine what inputs lead to what results. In the adventure game, this validation system involves checking the answers (inputs) given and checking to see if the answer was correct to determine if the player should be able to progress from the quiz.\n",
    "\n",
    "## DOM (Document Object Model)\n",
    "DOM is a programming interface that represents the objects the structure of a webpage. By using DOM, you can connect HTML with other programming languages (usually, and in this case, Javascript). The typical DOM tree would look something like this:\n",
    "![4]({{site.baseurl}}/images/notebooks/final/4.png)"
   ]
  }
 ],
 "metadata": {
  "language_info": {
   "name": "python"
  }
 },
 "nbformat": 4,
 "nbformat_minor": 2
}
