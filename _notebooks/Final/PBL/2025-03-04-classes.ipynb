{
 "cells": [
  {
   "cell_type": "code",
   "execution_count": null,
   "metadata": {
    "vscode": {
     "languageId": "yaml"
    }
   },
   "outputs": [],
   "source": [
    "---\n",
    "layout: post\n",
    "title: Classes\n",
    "description: Blog on the classes in Javascript\n",
    "categories: [Final]\n",
    "permalink: /final/pbl/classes\n",
    "author: Ethan Fu\n",
    "---"
   ]
  },
  {
   "cell_type": "markdown",
   "metadata": {},
   "source": [
    "# Classes\n",
    "\n",
    "## Classes Hierarchy\n",
    "In our game, we have a system of classes that all link together in a sort of tree, with certain classes taking properties from other classes further up on the tree: \n",
    "![1]({{site.baseurl}}/images/notebooks/final/1.png)\n",
    "## Methods\n",
    "Methods are functions that are defined within a class. For example, the countTreasure is a method that counts your total treasures and makes decisions based how many you have:\n",
    "![2]({{site.baseurl}}/images/notebooks/final/2.png)\n",
    "\n",
    "You can then call these methods in a seperate file by importing them, which lets you perform those methods' functions remotely.\n",
    "\n",
    "Calling methods are methods that call other functions/methods to perform their functions, which allows you to run multiple functions at once. Using calling methods is a good way to organize your game, as you would ideally want one function to perform a single act for organizational purposes.\n",
    "\n",
    "## Objects\n",
    "Objects are things in games that have properties and perform functions. Almost everything you can see in the adventure game is a game object. Objects are defined in classes in their own files, then are instantiated in the game level file, which actually creates that object in the game. You can use these objects in whichever way you code them to work. Usually, in this case, the objects in the game are NPCs and treasures, as well as the player itself. "
   ]
  }
 ],
 "metadata": {
  "language_info": {
   "name": "python"
  }
 },
 "nbformat": 4,
 "nbformat_minor": 2
}
