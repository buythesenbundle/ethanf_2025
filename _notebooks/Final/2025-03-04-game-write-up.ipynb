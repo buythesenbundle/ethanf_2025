{
 "cells": [
  {
   "cell_type": "code",
   "execution_count": null,
   "metadata": {
    "vscode": {
     "languageId": "yaml"
    }
   },
   "outputs": [],
   "source": [
    "---\n",
    "layout: post\n",
    "title: Game Feature Write-Up plus drawIO diagram\n",
    "description: description of how the game feature and code were added\n",
    "categories: [Final]\n",
    "permalink: final/write-up/\n",
    "author: Ethan Fu\n",
    "---"
   ]
  },
  {
   "cell_type": "markdown",
   "metadata": {},
   "source": [
    "## Feature In-game\n",
    "\n",
    "In the game, the change in code for the player sprite allows for the player to visually turn when they move in different directions, with the sprite facing in the direction that they move in. This feature's purpose is to enhance the player experience by making the movement feel a little more realistic.\n",
    "\n",
    "## Code\n",
    "\n",
    "![evidence1]({{site.baseurl}}/images/notebooks/final/write-up1.png)\n",
    "![evidence2]({{site.baseurl}}/images/notebooks/final/write-up2.png)\n",
    "The flipping is done using math functions to transform the sprite of the player. In the code, there are multiple transformations, but the player only needs the mirror transformation (which is done by changing the value of a boolean variable), which works by inverting the scale of the player sprite's x value into the negatives.\n",
    "\n",
    "## DrawIO Diagram\n",
    "The drawIO diagram shows the structure and hierarchy of the classes in the game:\n",
    "![1]({{site.baseurl}}/images/notebooks/final/1.png)"
   ]
  }
 ],
 "metadata": {
  "language_info": {
   "name": "python"
  }
 },
 "nbformat": 4,
 "nbformat_minor": 2
}
