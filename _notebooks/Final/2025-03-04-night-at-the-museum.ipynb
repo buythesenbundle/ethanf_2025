{
 "cells": [
  {
   "cell_type": "code",
   "execution_count": null,
   "metadata": {
    "vscode": {
     "languageId": "yaml"
    }
   },
   "outputs": [],
   "source": [
    "---\n",
    "layout: post\n",
    "title: Night at the Museum Blog\n",
    "description: happenings at N@tM\n",
    "categories: [Final]\n",
    "permalink: final/natm\n",
    "author: Ethan Fu\n",
    "---"
   ]
  },
  {
   "cell_type": "markdown",
   "metadata": {},
   "source": [
    "# Night at the Museum\n",
    "\n",
    "## Feedback\n",
    "At night at the museum, I presented for around 30 minutes at the CSSE2 table. During that time, I got a good amount of reviews from the people I demo'd for.\n",
    "![5]({{site.baseurl}}/images/notebooks/final/5.png\n",
    "Based off the feedback, I have a few things I feel that I could add on to the game to improve it:\n",
    "- obstacles to make the game harder\n",
    "- fix a few bugs with the treasure tracker\n",
    "- (already fixed) game lag\n",
    "\n",
    "## Other Classes' Works\n",
    "I also looked at some other classes' works:\n",
    "![6]({{site.baseurl}}/images/notebooks/final/6.png)\n",
    "I liked this work because of the calm and nostalgic environment, as well as the colors. Overall I thought this work was great.\n",
    "![7]({{site.baseurl}}/images/notebooks/final/7.png)\n",
    "Jazz band was also there, but I wouldn't know how well they played because I don't play an instrument myself. However, I thought they were good anyways.\n",
    "![8]({{site.baseurl}}/images/notebooks/final/8.png)\n",
    "![9]({{site.baseurl}}/images/notebooks/final/9.png)\n",
    "I also liked these two works because of their environments and theming."
   ]
  }
 ],
 "metadata": {
  "language_info": {
   "name": "python"
  }
 },
 "nbformat": 4,
 "nbformat_minor": 2
}
